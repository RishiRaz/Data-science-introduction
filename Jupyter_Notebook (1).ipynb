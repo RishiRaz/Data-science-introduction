{
 "cells": [
  {
   "cell_type": "markdown",
   "metadata": {},
   "source": [
    "## Data Science Introduction\n",
    "Welcome to this introductory Data Science notebook! In this notebook, we will explore various data science languages, libraries, and\n",
    "tools, and work on some simple examples of arithmetic expressions.\n"
   ]
  },
  {
   "cell_type": "markdown",
   "metadata": {},
   "source": [
    "## Data Science Languages\n",
    "Python R Julia SQL Java Scala MATLAB"
   ]
  },
  {
   "cell_type": "markdown",
   "metadata": {},
   "source": [
    "## Data Science Libraries\n",
    "NumPy Pandas Matplotlib Seaborn SciPy Scikit-learn TensorFlow PyTorch"
   ]
  },
  {
   "cell_type": "markdown",
   "metadata": {
    "tags": []
   },
   "source": [
    "**Exercise 6**\n",
    "\n",
    "*Data Science Tools Table*\n",
    "\n",
    "| Tool Name   | Description                           | Website                              |\n",
    "|-------------|---------------------------------------|--------------------------------------|\n",
    "| Jupyter     | Interactive notebooks for data analysis and visualization | https://jupyter.org/     |\n",
    "| VS Code     | Integrated development environment (IDE) | https://code.visualstudio.com/ |\n",
    "| Anaconda    | Distribution of Python for data science | https://www.anaconda.com/   |\n",
    "| Tableau     | Data visualization and analysis tool   | https://www.tableau.com/    |\n",
    "| RStudio     | IDE for R programming                  | https://www.rstudio.com/    |\n",
    "| Git         | Version control system                 | https://git-scm.com/        |\n",
    "| Excel       | Spreadsheet software                   | https://www.microsoft.com/en-us/microsoft-365/excel |\n"
   ]
  },
  {
   "cell_type": "markdown",
   "metadata": {},
   "source": [
    "## Arithmetic Expression Examples\n",
    "\n",
    "Arithmetic expressions involve mathematical operations such as addition, subtraction, multiplication, and division. In the next code cells, we'll see some examples of these expressions in action."
   ]
  },
  {
   "cell_type": "code",
   "execution_count": 2,
   "metadata": {
    "tags": []
   },
   "outputs": [
    {
     "name": "stdout",
     "output_type": "stream",
     "text": [
      "The result of 5 multiplied by 10 is 50.\n",
      "The sum of 3 and 7 is 10.\n"
     ]
    }
   ],
   "source": [
    "# Multiplication example\n",
    "a = 5\n",
    "b = 10\n",
    "result_multiply = a * b\n",
    "print(f\"The result of {a} multiplied by {b} is {result_multiply}.\")\n",
    "\n",
    "# Addition example\n",
    "c = 3\n",
    "d = 7\n",
    "result_addition = c + d\n",
    "print(f\"The sum of {c} and {d} is {result_addition}.\")\n"
   ]
  },
  {
   "cell_type": "code",
   "execution_count": 3,
   "metadata": {
    "tags": []
   },
   "outputs": [
    {
     "name": "stdout",
     "output_type": "stream",
     "text": [
      "120 minutes is equal to 2.0 hours.\n"
     ]
    }
   ],
   "source": [
    "def minutes_to_hours(minutes):\n",
    "    hours = minutes / 60\n",
    "    return hours\n",
    "\n",
    "minutes = 120\n",
    "hours_result = minutes_to_hours(minutes)\n",
    "print(f\"{minutes} minutes is equal to {hours_result} hours.\")\n"
   ]
  },
  {
   "cell_type": "markdown",
   "metadata": {},
   "source": [
    "Objectives\n",
    "\n",
    "In this notebook, we aim to:\n",
    "\n",
    "1. Introduce data science languages and libraries.\n",
    "2. Explore various data science tools.\n",
    "3. Perform arithmetic expressions using Python."
   ]
  },
  {
   "cell_type": "markdown",
   "metadata": {},
   "source": [
    "## Author\n",
    "\n",
    "This notebook was created by Rishi Swarnkar."
   ]
  },
  {
   "cell_type": "code",
   "execution_count": null,
   "metadata": {},
   "outputs": [],
   "source": []
  },
  {
   "cell_type": "code",
   "execution_count": null,
   "metadata": {},
   "outputs": [],
   "source": []
  }
 ],
 "metadata": {
  "kernelspec": {
   "display_name": "Python",
   "language": "python",
   "name": "conda-env-python-py"
  },
  "language_info": {
   "codemirror_mode": {
    "name": "ipython",
    "version": 3
   },
   "file_extension": ".py",
   "mimetype": "text/x-python",
   "name": "python",
   "nbconvert_exporter": "python",
   "pygments_lexer": "ipython3",
   "version": "3.7.12"
  }
 },
 "nbformat": 4,
 "nbformat_minor": 4
}
